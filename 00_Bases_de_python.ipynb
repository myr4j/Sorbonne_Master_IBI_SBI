{
 "cells": [
  {
   "cell_type": "markdown",
   "id": "06957e89",
   "metadata": {},
   "source": [
    "# **Bases de Python**\n",
    "Ce document présente quelques exercices sur les bases de python : \n",
    "        str, int, list, set, tuple, dict, boucles for et while, fonctions\n",
    "Il a pour but de vous remémorer et vous faire découvrir les manipulations des objets de bases.\n",
    "Parmi toutes les questions, certaines solutions ne sont disponibles dans aucun document de cours. C'est normal.\n",
    "\n",
    "Les exercices portent sur des cas d'usages rencontrés par les professionnels de la data en entreprises.\n",
    "Vous utiliserez les données infos.json dans le dossier rappels.\n",
    "Le format json est un format largement rencontré en entreprise ou dans le back des sites webs,\n",
    "car il permet d'avoir accès à toutes les infos selon un modèle hiérarchisé.\n",
    "\n",
    "Vous répondrez ensuite aux questions présentées dans ce document."
   ]
  },
  {
   "cell_type": "markdown",
   "id": "e780accf",
   "metadata": {},
   "source": [
    "# **Contexte** : \n",
    "**Vous êtes junior data analyst chez Shoply, un e-commerce B2C.**    \n",
    "**On vous fournit des structures Python brutes en json :**    \n",
    "**des listes, dictionnaires et tuples représentant des clients, produits et commandes.**  \n",
    "\n",
    "NB : Les noms utilisés ont été inventés. Toute ressemblance avec des personnes existantes ou ayant existées est purement fortuite."
   ]
  },
  {
   "cell_type": "code",
   "execution_count": 63,
   "id": "4f0e61b1",
   "metadata": {},
   "outputs": [
    {
     "data": {
      "text/plain": [
       "{'P001': ('Clavier mécanique', 79),\n",
       " 'P002': ('Souris sans fil', 39),\n",
       " 'P003': ('Écran 24\"', 149),\n",
       " 'P004': ('Câble HDMI', 12),\n",
       " 'P005': ('Webcam HD', 59)}"
      ]
     },
     "execution_count": 63,
     "metadata": {},
     "output_type": "execute_result"
    }
   ],
   "source": [
    "import json\n",
    "\n",
    "# On charge les données depuis le fichier JSON\n",
    "# ../ est nécessaire pour dire de partir du fichier racine du projet\n",
    "# qui contient le dossier rappels\n",
    "with open(\"rappels/infos.json\", \"r\", encoding=\"utf-8\") as f:\n",
    "    data = json.load(f)\n",
    "\n",
    "# 1- On récupère les clients tels quels (list[dict])\n",
    "\n",
    "# e.g \"clients\": [\n",
    "#     {\"id\": \"C001\", \"nom\": \"Alice Durand\", \"email\": \"alice@example.com\", \"ville\": \"Lyon\"}, \n",
    "clients = data[\"clients\"]\n",
    "\n",
    "# 2- On convertit produits en dict[id] -> (nom, prix) pour rester compatible\n",
    "\"\"\"\n",
    "items = itérateur\n",
    "\n",
    "data[\"produits\"]\n",
    "{'P001': ('Clavier mécanique', 79),\n",
    " 'P002': ('Souris sans fil', 39),\n",
    " 'P003': ('Écran 24\"', 149),\n",
    " 'P004': ('Câble HDMI', 12),\n",
    " 'P005': ('Webcam HD', 59)}\n",
    "\n",
    " pid = P001, p = { \"nom\" : 'Clavier mécanique', \"prix\" : 79 }\n",
    "\"\"\"\n",
    "produits = {pid: (p[\"nom\"], p[\"prix\"]) for (pid, p) in data[\"produits\"].items()}\n",
    "\n",
    "# 3- On convertit les lignes en listes de tuples (product_id, quantite)\n",
    "\"\"\"\n",
    "    [{'id': 'O001',\n",
    "  'client_id': 'C001',\n",
    "  'lignes': [('P001', 1), ('P004', 2)],\n",
    "  'statut': 'expédiée'},\n",
    "\"\"\"\n",
    "commandes = []\n",
    "for cmd in data[\"commandes\"]:\n",
    "    lignes_tuples = [(l[\"product_id\"], l[\"quantite\"]) for l in cmd[\"lignes\"]]\n",
    "    commandes.append({\n",
    "        \"id\": cmd[\"id\"],\n",
    "        \"client_id\": cmd[\"client_id\"],\n",
    "        \"lignes\": lignes_tuples,\n",
    "        \"statut\": cmd[\"statut\"]\n",
    "    })\n",
    "\n",
    "produits"
   ]
  },
  {
   "cell_type": "markdown",
   "id": "e12072c6",
   "metadata": {},
   "source": [
    "**01- Affichez le nombre total de clients.**\n",
    "        \n",
    "Réponse attendue : 5"
   ]
  },
  {
   "cell_type": "code",
   "execution_count": 64,
   "id": "3279111f",
   "metadata": {},
   "outputs": [
    {
     "data": {
      "text/plain": [
       "5"
      ]
     },
     "execution_count": 64,
     "metadata": {},
     "output_type": "execute_result"
    }
   ],
   "source": [
    "len(clients)"
   ]
  },
  {
   "cell_type": "markdown",
   "id": "1060d88b",
   "metadata": {},
   "source": [
    "**02- Calculez le total de la ligne (P004, 2).**\n",
    "\n",
    "Réponse attendue : 24"
   ]
  },
  {
   "cell_type": "code",
   "execution_count": 65,
   "id": "85af5d9d",
   "metadata": {},
   "outputs": [
    {
     "data": {
      "text/plain": [
       "24"
      ]
     },
     "execution_count": 65,
     "metadata": {},
     "output_type": "execute_result"
    }
   ],
   "source": [
    "produits[\"P004\"][1] * 2"
   ]
  },
  {
   "cell_type": "markdown",
   "id": "2deac45a",
   "metadata": {},
   "source": [
    "**03- Donnez la longueur du nom complet du premier client.**\n",
    "\n",
    "Réponse attendue : 12"
   ]
  },
  {
   "cell_type": "code",
   "execution_count": 66,
   "id": "cddc0986",
   "metadata": {},
   "outputs": [
    {
     "data": {
      "text/plain": [
       "12"
      ]
     },
     "execution_count": 66,
     "metadata": {},
     "output_type": "execute_result"
    }
   ],
   "source": [
    "len(clients[0][\"nom\"])"
   ]
  },
  {
   "cell_type": "markdown",
   "id": "d6800cd6",
   "metadata": {},
   "source": [
    "**04- Affichez le prénom de chaque client.**\n",
    "\n",
    "Réponse attendue : \n",
    "```python \n",
    "['Alice', 'Bob', 'Chloé', 'David', 'Éva']\n",
    "```"
   ]
  },
  {
   "cell_type": "code",
   "execution_count": 67,
   "id": "0d1d8f2b",
   "metadata": {},
   "outputs": [
    {
     "data": {
      "text/plain": [
       "['Alice', 'Bob', 'Chloé', 'David', 'Eva']"
      ]
     },
     "execution_count": 67,
     "metadata": {},
     "output_type": "execute_result"
    }
   ],
   "source": [
    "[ client[\"nom\"].split(' ')[0] for client in clients] "
   ]
  },
  {
   "cell_type": "markdown",
   "id": "c995896a",
   "metadata": {},
   "source": [
    "**05- Dans le 3ème nom, remplacer les accents par les mêmes lettres sans accents. \n",
    "    Utiliser une f-string pour donner le résultat.**\n",
    "\n",
    "Réponse attendue : \n",
    "```python\n",
    "'Chloe Lefevre'\n",
    "```"
   ]
  },
  {
   "cell_type": "code",
   "execution_count": 68,
   "id": "cc33033b",
   "metadata": {},
   "outputs": [
    {
     "data": {
      "text/plain": [
       "'Chloe Lefevre'"
      ]
     },
     "execution_count": 68,
     "metadata": {},
     "output_type": "execute_result"
    }
   ],
   "source": [
    "clients[2][\"nom\"].replace('é','e').replace('è','e')"
   ]
  },
  {
   "cell_type": "markdown",
   "id": "bb54118c",
   "metadata": {},
   "source": [
    "**06- Pour chaque email, vérifiez la présence de \"@\".**\n",
    "        \n",
    "Réponse attendue : \n",
    "```python\n",
    "[True, True, True, True, True]\n",
    "```"
   ]
  },
  {
   "cell_type": "code",
   "execution_count": 69,
   "id": "7c483ffc",
   "metadata": {},
   "outputs": [
    {
     "data": {
      "text/plain": [
       "[True, True, True, True, True]"
      ]
     },
     "execution_count": 69,
     "metadata": {},
     "output_type": "execute_result"
    }
   ],
   "source": [
    "['@' in client[\"email\"] for client in clients]"
   ]
  },
  {
   "cell_type": "markdown",
   "id": "b1c9c0a8",
   "metadata": {},
   "source": [
    "**07- Vérifier qu'il n'y a pas deux clients avec le même email.**\n",
    "        \n",
    "Réponse attendue : \n",
    "```python\n",
    "\"Aucun doublon ? True\"\n",
    "```"
   ]
  },
  {
   "cell_type": "code",
   "execution_count": 70,
   "id": "9d7618de",
   "metadata": {},
   "outputs": [
    {
     "name": "stdout",
     "output_type": "stream",
     "text": [
      "Aucun doublon ? True\n"
     ]
    }
   ],
   "source": [
    "s = set()\n",
    "doublon = True\n",
    "for client in clients : \n",
    "    if client[\"email\"] not in s :\n",
    "        s.add(client[\"email\"])\n",
    "    else :\n",
    "        doublon = False\n",
    "        break\n",
    "print(f\"Aucun doublon ? {doublon}\")        "
   ]
  },
  {
   "cell_type": "markdown",
   "id": "75873a16",
   "metadata": {},
   "source": [
    "**08- Renvoyer les clients sans commandes sous forme de set.**\n",
    "        \n",
    "Réponse attendue : {'C004'}"
   ]
  },
  {
   "cell_type": "code",
   "execution_count": 71,
   "id": "de94da61",
   "metadata": {},
   "outputs": [
    {
     "name": "stdout",
     "output_type": "stream",
     "text": [
      "{'C004'}\n"
     ]
    }
   ],
   "source": [
    "s = set() \n",
    "for client in clients :\n",
    "    s.add(client[\"id\"])\n",
    "    \n",
    "for commande in commandes :\n",
    "    if commande[\"client_id\"] in s :\n",
    "        s.remove(commande[\"client_id\"])\n",
    "\n",
    "print(s)"
   ]
  },
  {
   "cell_type": "markdown",
   "id": "e43eb6bc",
   "metadata": {},
   "source": [
    "**09- Renvoyer les ID des produits jamais commandés.**\n",
    "        \n",
    "Réponse attendue : {'P005'}"
   ]
  },
  {
   "cell_type": "code",
   "execution_count": 79,
   "id": "4c32e57c",
   "metadata": {},
   "outputs": [
    {
     "name": "stdout",
     "output_type": "stream",
     "text": [
      "{'P006', 'P008', 'P005', 'P007', 'P009', 'P011', 'P010'}\n"
     ]
    }
   ],
   "source": [
    "s = set() \n",
    "for produit in produits :\n",
    "    s.add(produit)\n",
    "    \n",
    "for commande in commandes :\n",
    "        for ligne in commande[\"lignes\"] :\n",
    "            if ligne[0] in s : \n",
    "                s.remove(ligne[0])\n",
    "\n",
    "print(s)"
   ]
  },
  {
   "cell_type": "markdown",
   "id": "934f5e9e",
   "metadata": {},
   "source": [
    "**10- Filtrer les commandes pour ne garder que les commandes actives (ie statut != \"annulée\").**\n",
    "        \n",
    "Réponse attendue : \n",
    "```python \n",
    "['O001', 'O002', 'O003', 'O005']\n",
    "```"
   ]
  },
  {
   "cell_type": "code",
   "execution_count": 73,
   "id": "50a46031",
   "metadata": {},
   "outputs": [
    {
     "data": {
      "text/plain": [
       "['O001', 'O002', 'O003', 'O005']"
      ]
     },
     "execution_count": 73,
     "metadata": {},
     "output_type": "execute_result"
    }
   ],
   "source": [
    "\"\"\"l = []\n",
    "for commande in commandes :\n",
    "    if commande[\"statut\"] != 'annulée' :\n",
    "        l.append(commande[\"id\"])\n",
    "\n",
    "\"\"\"\n",
    "\n",
    "[(commande[\"id\"]) for commande in commandes if commande[\"statut\"] != 'annulée' ]"
   ]
  },
  {
   "cell_type": "markdown",
   "id": "ce2c8026",
   "metadata": {},
   "source": [
    "**11- Trouvez le numéro de commande de la première commande annulée.**\n",
    "        \n",
    "Réponse attendue : O004"
   ]
  },
  {
   "cell_type": "code",
   "execution_count": 74,
   "id": "79c462d4",
   "metadata": {},
   "outputs": [
    {
     "name": "stdout",
     "output_type": "stream",
     "text": [
      "O004\n"
     ]
    }
   ],
   "source": [
    "commandes \n",
    "for commande in commandes :\n",
    "    if commande[\"statut\"] == \"annulée\":\n",
    "        print(commande[\"id\"])\n",
    "        break"
   ]
  },
  {
   "cell_type": "markdown",
   "id": "00a09557",
   "metadata": {},
   "source": [
    "**12- Renvoyer le nombre total de commande par client sous forme d'un dictionnaire.**\n",
    "        \n",
    "Réponse attendue : \n",
    "```python \n",
    "    {\n",
    "    'C001': 1, \n",
    "    'C002': 2, \n",
    "    'C003': 1, \n",
    "    'C005': 1\n",
    "    }\n",
    "```"
   ]
  },
  {
   "cell_type": "code",
   "execution_count": 75,
   "id": "4de1d06e",
   "metadata": {},
   "outputs": [
    {
     "data": {
      "text/plain": [
       "{'C001': 1, 'C002': 2, 'C003': 1, 'C004': 0, 'C005': 1}"
      ]
     },
     "execution_count": 75,
     "metadata": {},
     "output_type": "execute_result"
    }
   ],
   "source": [
    "d = {client[\"id\"] : 0 for client in clients}\n",
    "\n",
    "for commande in commandes :\n",
    "    d[commande[\"client_id\"]] = d[commande[\"client_id\"]] + 1 \n",
    "\n",
    "d"
   ]
  },
  {
   "cell_type": "markdown",
   "id": "6b9e7e0d",
   "metadata": {},
   "source": [
    "\n",
    "**13- Créer un nouveau dictionnaire, appelé new_products, contenant 6 produits (des casques de 6 couleurs différentes), \n",
    "    de références P006 à P011 (aidez-vous de la méthode .zfill()) et de prix identiques.\n",
    "    Ajouter les au dictionnaire produit, de 3 manières différentes.**\n",
    "        \n",
    "Réponse attendue : \n",
    "```python\n",
    "{  \n",
    "    'P001': ('Clavier mécanique', 79),  \n",
    "    'P002': ('Souris sans fil', 39),\n",
    "    'P003': ('Écran 24\"', 149),\n",
    "    'P004': ('Câble HDMI', 12),\n",
    "    'P005': ('Webcam HD', 59),\n",
    "    'P006': ('Casque rouge', 99),\n",
    "    'P007': ('Casque bleu', 99),\n",
    "    'P008': ('Casque vert', 99),\n",
    "    'P009': ('Casque noir', 99),\n",
    "    'P010': ('Casque blanc', 99),\n",
    "    'P011': ('Casque violet', 99)\n",
    "}\n",
    "```"
   ]
  },
  {
   "cell_type": "code",
   "execution_count": null,
   "id": "7f06278c",
   "metadata": {},
   "outputs": [
    {
     "data": {
      "text/plain": [
       "{'P001': ('Clavier mécanique', 79),\n",
       " 'P002': ('Souris sans fil', 39),\n",
       " 'P003': ('Écran 24\"', 149),\n",
       " 'P004': ('Câble HDMI', 12),\n",
       " 'P005': ('Webcam HD', 59),\n",
       " 'P006': ('Casque rouge', 99),\n",
       " 'P007': ('Casque bleu', 99),\n",
       " 'P008': ('Casque vert', 99),\n",
       " 'P009': ('Casque noir', 99),\n",
       " 'P010': ('Casque blanc', 99),\n",
       " 'P011': ('Casque violet', 99)}"
      ]
     },
     "execution_count": 78,
     "metadata": {},
     "output_type": "execute_result"
    }
   ],
   "source": [
    "new_products = produits\n",
    "liste = [('Casque rouge', 99),  ('Casque bleu', 99), ('Casque vert', 99), ('Casque noir', 99), ('Casque blanc', 99), ('Casque violet', 99)]\n",
    "i = 5\n",
    "\n",
    "for l in liste : \n",
    "    i += 1\n",
    "    new_products[f\"P{str(i).zfill(3)}\"] = l\n",
    "\n",
    "new_products\n"
   ]
  },
  {
   "cell_type": "markdown",
   "id": "595325ba",
   "metadata": {},
   "source": [
    "**14- Calculer le total de la commande O001.**\n",
    "\n",
    "Réponse attendue : 103"
   ]
  },
  {
   "cell_type": "code",
   "execution_count": 90,
   "id": "f97258cb",
   "metadata": {},
   "outputs": [
    {
     "data": {
      "text/plain": [
       "103"
      ]
     },
     "execution_count": 90,
     "metadata": {},
     "output_type": "execute_result"
    }
   ],
   "source": [
    "prix = 0\n",
    "for l in commandes[0]['lignes'] :\n",
    "    prix +=  produits[l[0]][1] * l[1]\n",
    "prix"
   ]
  },
  {
   "cell_type": "markdown",
   "id": "08728932",
   "metadata": {},
   "source": [
    "**15- Calculer le panier moyen des commandes non annulées. Trouver une façon de formatter le résultat avec deux décimales.**\n",
    "\n",
    "Réponse attendue : 5"
   ]
  },
  {
   "cell_type": "code",
   "execution_count": null,
   "id": "966f232e",
   "metadata": {},
   "outputs": [],
   "source": []
  },
  {
   "cell_type": "markdown",
   "id": "5831f2fd",
   "metadata": {},
   "source": [
    "**16- Créer une fonction qui prend en paramètre un numéro de commande et qui renvoie le total de la commande. \n",
    "    Donner le total de chaque commande.**\n",
    "        \n",
    "Réponse attendue : \n",
    "```python\n",
    "O001 103\n",
    "O002 39\n",
    "O003 161\n",
    "O004 157\n",
    "O005 59\n",
    "```"
   ]
  },
  {
   "cell_type": "code",
   "execution_count": null,
   "id": "c8edaaea",
   "metadata": {},
   "outputs": [],
   "source": []
  },
  {
   "cell_type": "markdown",
   "id": "db4e3877",
   "metadata": {},
   "source": [
    "**17- Appliquer une remise de 10% aux commandes O002 et O003. Arrondir les résultats à 2 décimales.**\n",
    "        \n",
    "Réponse attendue : \n",
    "```python \n",
    "O002 : 35.10 €\n",
    "O003 : 144.90 €\n",
    "```"
   ]
  },
  {
   "cell_type": "code",
   "execution_count": null,
   "id": "e1532f13",
   "metadata": {},
   "outputs": [],
   "source": []
  },
  {
   "cell_type": "markdown",
   "id": "34bb2184",
   "metadata": {},
   "source": [
    "**18- Créer une fonction qui renvoie le chiffre d'affaires (CA) par ville (donc commandes non-anulées), \n",
    "    puis le donner pour chacune des villes.**\n",
    "        \n",
    "Réponse attendue : \n",
    "```python \n",
    "{\n",
    "    'Lyon': 162, \n",
    "    'Paris': 200\n",
    "}\n",
    "\n",
    "```"
   ]
  },
  {
   "cell_type": "code",
   "execution_count": null,
   "id": "185e0281",
   "metadata": {},
   "outputs": [],
   "source": []
  },
  {
   "cell_type": "markdown",
   "id": "4363103a",
   "metadata": {},
   "source": [
    "**19- Faire un classement par ordre décroissant des clients par CA sous forme de liste.\n",
    "    Chaque client doit apparaitre sous forme d'un tuple (client_id, prénom nom, CA).**\n",
    "        \n",
    "Réponse attendue : \n",
    "```python\n",
    "[\n",
    "    ('C003', 'Chloé Bernard', 161),\n",
    "    ('C001', 'Alice Durand', 103),\n",
    "    ('C005', 'Éva Petit', 59), \n",
    "    ('C002', 'Bob Martin', 39),\n",
    "    ('C004', 'David Lefèvre', 0)\n",
    "]\n",
    "```"
   ]
  },
  {
   "cell_type": "code",
   "execution_count": null,
   "id": "0e2a9b5d",
   "metadata": {},
   "outputs": [],
   "source": []
  },
  {
   "cell_type": "markdown",
   "id": "7e3fb3a0",
   "metadata": {},
   "source": [
    "**20- Générez un rapport affichant les données suivantes. Utiliser des f-strings pour formattez les résultats. \n",
    "    nb clients, nb commandes (total/actives), CA total (hors annulées), top produits (volume), top ville (CA)**\n",
    "        \n",
    "Réponse attendue :  \n",
    "- Clients: 5  \n",
    "- Commandes: 5 (actives: 4)  \n",
    "- CA total (hors annulées): 342€  \n",
    "- Top produit(s) (volume): Souris sans fil (4)  \n",
    "- Top ville (CA): Paris  "
   ]
  },
  {
   "cell_type": "code",
   "execution_count": null,
   "id": "1c883c4a",
   "metadata": {},
   "outputs": [],
   "source": [
    "\n"
   ]
  }
 ],
 "metadata": {
  "kernelspec": {
   "display_name": "venv",
   "language": "python",
   "name": "python3"
  },
  "language_info": {
   "codemirror_mode": {
    "name": "ipython",
    "version": 3
   },
   "file_extension": ".py",
   "mimetype": "text/x-python",
   "name": "python",
   "nbconvert_exporter": "python",
   "pygments_lexer": "ipython3",
   "version": "3.10.12"
  }
 },
 "nbformat": 4,
 "nbformat_minor": 5
}
